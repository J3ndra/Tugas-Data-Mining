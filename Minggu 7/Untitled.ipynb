{
 "cells": [
  {
   "cell_type": "code",
   "execution_count": 1,
   "id": "62e893ba",
   "metadata": {},
   "outputs": [
    {
     "name": "stdout",
     "output_type": "stream",
     "text": [
      "Entropy of 'PLAY': 0.863120568566631\n",
      "Information Gain for OUTLOOK: -0.8024981256056956\n",
      "Information Gain for TEMPERATURE: -0.8564186614745146\n",
      "Information Gain for HUMIDITY: -0.1294934994504947\n",
      "Information Gain for WINDY: -0.9792504246104774\n"
     ]
    }
   ],
   "source": [
    "import pandas as pd\n",
    "import math\n",
    "\n",
    "# Create a DataFrame from the given classification data\n",
    "data = {\n",
    "    'OUTLOOK': ['Sunny', 'Sunny', 'Cloudy', 'Rainy', 'Rainy', 'Rainy', 'Cloudy', 'Sunny', 'Sunny', 'Rainy', 'Sunny', 'Cloudy', 'Cloudy', 'Rainy'],\n",
    "    'TEMPERATURE': ['Hot', 'Hot', 'Hot', 'Mild', 'Cool', 'Cool', 'Cool', 'Mild', 'Cool', 'Mild', 'Mild', 'Mild', 'Hot', 'Mild'],\n",
    "    'HUMIDITY': ['High', 'High', 'High', 'High', 'Normal', 'Normal', 'Normal', 'High', 'Normal', 'Normal', 'Normal', 'High', 'Normal', 'High'],\n",
    "    'WINDY': ['No', 'Yes', 'No', 'No', 'No', 'Yes', 'Yes', 'No', 'No', 'No', 'Yes', 'Yes', 'No', 'Yes'],\n",
    "    'PLAY': [\"Don't Play\", \"Don't Play\", 'Play', 'Play', 'Play', 'Play', 'Play', \"Don't Play\", 'Play', 'Play', 'Play', 'Play', 'Play', \"Don't Play\"]\n",
    "}\n",
    "\n",
    "df = pd.DataFrame(data)\n",
    "\n",
    "# Calculate the entropy of the target variable 'PLAY'\n",
    "play_counts = df['PLAY'].value_counts()\n",
    "total_examples = play_counts.sum()\n",
    "p_play = play_counts['Play'] / total_examples\n",
    "p_dont_play = play_counts[\"Don't Play\"] / total_examples\n",
    "entropy_play = -p_play * math.log2(p_play) - p_dont_play * math.log2(p_dont_play)\n",
    "\n",
    "print(\"Entropy of 'PLAY':\", entropy_play)\n",
    "\n",
    "# Calculate the information gain for each feature\n",
    "def calculate_entropy(feature):\n",
    "    feature_counts = df.groupby(feature)['PLAY'].value_counts()\n",
    "    total_examples = feature_counts.sum()\n",
    "    entropy = 0\n",
    "\n",
    "    for value in df[feature].unique():\n",
    "        value_counts = feature_counts[value]\n",
    "        p_play = value_counts.get('Play', 0) / total_examples\n",
    "        p_dont_play = value_counts.get(\"Don't Play\", 0) / total_examples\n",
    "\n",
    "        if p_play != 0 and p_dont_play != 0:\n",
    "            entropy -= (p_play * math.log2(p_play) + p_dont_play * math.log2(p_dont_play))\n",
    "\n",
    "    return entropy\n",
    "\n",
    "def calculate_information_gain(feature):\n",
    "    feature_entropy = calculate_entropy(feature)\n",
    "    information_gain = entropy_play - feature_entropy\n",
    "    return information_gain\n",
    "\n",
    "# Calculate the information gain for each feature\n",
    "features = ['OUTLOOK', 'TEMPERATURE', 'HUMIDITY', 'WINDY']\n",
    "for feature in features:\n",
    "    information_gain = calculate_information_gain(feature)\n",
    "    print(\"Information Gain for\", feature + \":\", information_gain)\n"
   ]
  },
  {
   "cell_type": "code",
   "execution_count": null,
   "id": "76f893f0",
   "metadata": {},
   "outputs": [],
   "source": []
  }
 ],
 "metadata": {
  "kernelspec": {
   "display_name": "Python 3 (ipykernel)",
   "language": "python",
   "name": "python3"
  },
  "language_info": {
   "codemirror_mode": {
    "name": "ipython",
    "version": 3
   },
   "file_extension": ".py",
   "mimetype": "text/x-python",
   "name": "python",
   "nbconvert_exporter": "python",
   "pygments_lexer": "ipython3",
   "version": "3.10.6"
  }
 },
 "nbformat": 4,
 "nbformat_minor": 5
}
